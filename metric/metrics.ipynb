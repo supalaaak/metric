{
 "cells": [
  {
   "cell_type": "code",
   "execution_count": 1,
   "metadata": {},
   "outputs": [
    {
     "name": "stderr",
     "output_type": "stream",
     "text": [
      "/usr/local/envs/py2env/lib/python2.7/site-packages/h5py/__init__.py:36: FutureWarning: Conversion of the second argument of issubdtype from `float` to `np.floating` is deprecated. In future, it will be treated as `np.float64 == np.dtype(float).type`.\n",
      "  from ._conv import register_converters as _register_converters\n"
     ]
    }
   ],
   "source": [
    "import numpy as np\n",
    "import tensorflow as tf"
   ]
  },
  {
   "cell_type": "code",
   "execution_count": 2,
   "metadata": {},
   "outputs": [],
   "source": [
    "def apk(actual, predicted, k=10):\n",
    "    \"\"\"\n",
    "    Computes the average precision at k.\n",
    "    This function computes the average prescision at k between two lists of\n",
    "    items.\n",
    "    Parameters\n",
    "    ----------\n",
    "    actual : list\n",
    "             A list of elements that are to be predicted (order doesn't matter)\n",
    "    predicted : list\n",
    "                A list of predicted elements (order does matter)\n",
    "    k : int, optional\n",
    "        The maximum number of predicted elements\n",
    "    Returns\n",
    "    -------\n",
    "    score : double\n",
    "            The average precision at k over the input lists\n",
    "    \"\"\"\n",
    "    if len(predicted)>k:\n",
    "        predicted = predicted[:k]\n",
    "\n",
    "    score = 0.0\n",
    "    num_hits = 0.0\n",
    "\n",
    "    for i,p in enumerate(predicted):\n",
    "        if p in actual and p not in predicted[:i]:\n",
    "            num_hits += 1.0\n",
    "            score += num_hits / (i+1.0)\n",
    "\n",
    "    if not actual:\n",
    "        return 0.0\n",
    "\n",
    "    return score / min(len(actual), k)\n",
    "  \n",
    "def pk(actual, predicted, k=10):\n",
    "    \"\"\"\n",
    "    Computes the precision at k.\n",
    "    This function computes the prscision at k between two lists of\n",
    "    items.\n",
    "    Parameters\n",
    "    ----------\n",
    "    actual : list\n",
    "             A list of elements that are to be predicted (order doesn't matter)\n",
    "    predicted : list\n",
    "                A list of predicted elements (order does matter)\n",
    "    k : int, optional\n",
    "        The maximum number of predicted elements\n",
    "    Returns\n",
    "    -------\n",
    "    score : double\n",
    "            The precision at k over the input lists\n",
    "    \"\"\"\n",
    "    if len(predicted)>k:\n",
    "        predicted = predicted[:k]\n",
    "\n",
    "    y_true= np.array(actual)\n",
    "    onesmatrix=np.ones_like((actual))\n",
    "    compare_matrix=np.dot(actual,onesmatrix)\n",
    "\n",
    "    if not actual:\n",
    "        return 0.0\n",
    "\n",
    "    return np.mean(compare_matrix == predicted)"
   ]
  },
  {
   "cell_type": "code",
   "execution_count": 3,
   "metadata": {},
   "outputs": [],
   "source": [
    "def mpk(actual, predicted, k=10):\n",
    "    \"\"\"\n",
    "    Computes the mean precision at k.\n",
    "    This function computes the mean precision at k between two lists\n",
    "    of lists of items.\n",
    "    Parameters\n",
    "    ----------\n",
    "    actual : list\n",
    "             A list of lists of elements that are to be predicted \n",
    "             (order doesn't matter in the lists)\n",
    "    predicted : list\n",
    "                A list of lists of predicted elements\n",
    "                (order matters in the lists)\n",
    "    k : int, optional\n",
    "        The maximum number of predicted elements\n",
    "    Returns\n",
    "    -------\n",
    "    score : double\n",
    "            The average precision at k over the input lists\n",
    "            \n",
    "            https://www.kaggle.com/wendykan/map-k-demo\n",
    "    \"\"\"\n",
    "    return np.mean([pk(a,p,k) for a,p in zip(actual, predicted)])\n",
    "  \n",
    "def mapk(actual, predicted, k=10):\n",
    "    \"\"\"\n",
    "    Computes the mean average precision at k.\n",
    "    This function computes the mean average prescision at k between two lists\n",
    "    of lists of items.\n",
    "    Parameters\n",
    "    ----------\n",
    "    actual : list\n",
    "             A list of lists of elements that are to be predicted \n",
    "             (order doesn't matter in the lists)\n",
    "    predicted : list\n",
    "                A list of lists of predicted elements\n",
    "                (order matters in the lists)\n",
    "    k : int, optional\n",
    "        The maximum number of predicted elements\n",
    "    Returns\n",
    "    -------\n",
    "    score : double\n",
    "            The mean average precision at k over the input lists\n",
    "            \n",
    "            https://www.kaggle.com/wendykan/map-k-demo\n",
    "    \"\"\"\n",
    "    return np.mean([apk(a,p,k) for a,p in zip(actual, predicted)])"
   ]
  },
  {
   "cell_type": "code",
   "execution_count": 8,
   "metadata": {},
   "outputs": [
    {
     "name": "stdout",
     "output_type": "stream",
     "text": [
      "('Answer=', [1], 'predicted=', [1, 1, 3, 4, 5])\n",
      "('AP@5 =', 1.0)\n",
      "('PK@5 =', 0.6666666666666666)\n",
      "('Answer=', [1], 'predicted=', [2, 1, 3, 4, 5])\n",
      "('AP@5 =', 0.5)\n",
      "('PK@5 =', 0.3333333333333333)\n",
      "('Answer=', [1], 'predicted=', [3, 2, 1, 4, 5])\n",
      "('AP@5 =', 0.3333333333333333)\n",
      "('PK@5 =', 0.3333333333333333)\n",
      "('Answer=', [1], 'predicted=', [4, 2, 3, 1, 5])\n",
      "('AP@5 =', 0.0)\n",
      "('PK@5 =', 0.0)\n",
      "('Answer=', [1], 'predicted=', [4, 2, 3, 5, 1])\n",
      "('AP@5 =', 0.0)\n",
      "('PK@5 =', 0.0)\n",
      "('Answer=', [1], 'predicted=', [4, 2, 3, 5, 1])\n",
      "('PK@5 =', 0.0)\n"
     ]
    }
   ],
   "source": [
    "actual = [1]\n",
    "k=3\n",
    "predicted = [1,1,3,4,5]\n",
    "print('Answer=',actual,'predicted=',predicted)\n",
    "print('AP@5 =',apk(actual,predicted,k) )\n",
    "print('PK@5 =', pk(actual,predicted,k) )\n",
    "\n",
    "predicted = [2,1,3,4,5]\n",
    "print('Answer=',actual,'predicted=',predicted)\n",
    "print('AP@5 =',apk(actual,predicted,k) )\n",
    "print('PK@5 =', pk(actual,predicted,k) )\n",
    "\n",
    "predicted = [3,2,1,4,5]\n",
    "print('Answer=',actual,'predicted=',predicted)\n",
    "print('AP@5 =',apk(actual,predicted,k) )\n",
    "print('PK@5 =', pk(actual,predicted,k) )\n",
    "\n",
    "predicted = [4,2,3,1,5]\n",
    "print('Answer=',actual,'predicted=',predicted)\n",
    "print('AP@5 =',apk(actual,predicted,k) )\n",
    "print('PK@5 =', pk(actual,predicted,k) )\n",
    "\n",
    "predicted = [4,2,3,5,1]\n",
    "print('Answer=',actual,'predicted=',predicted)\n",
    "print('AP@5 =',apk(actual,predicted,k) )\n",
    "print('PK@5 =', pk(actual,predicted,k) )\n",
    "\n",
    "predicted = [4,2,3,5,1]\n",
    "print('Answer=',actual,'predicted=',predicted)\n",
    "print('PK@5 =',pk(actual,predicted,k) )\n"
   ]
  },
  {
   "cell_type": "code",
   "execution_count": 5,
   "metadata": {},
   "outputs": [
    {
     "name": "stdout",
     "output_type": "stream",
     "text": [
      "('MAP@5 =', 0.45666666666666667)\n",
      "('MP@5 =', 0.27999999999999997)\n"
     ]
    }
   ],
   "source": [
    "actual=[[1],[1],[1],[1],[1]]\n",
    "predicted=[[1,1,3,4,1],[2,1,3,4,5],[3,2,1,4,5],[4,2,3,1,5],[4,2,3,5,1]]\n",
    "print('MAP@5 =',mapk(actual, predicted, k=5))\n",
    "print('MP@5 =',mpk(actual, predicted, k=5))"
   ]
  },
  {
   "cell_type": "markdown",
   "metadata": {},
   "source": [
    "https://github.com/ChenglongChen/tensorflow-LTR/blob/master/src/metrics.py"
   ]
  },
  {
   "cell_type": "code",
   "execution_count": 6,
   "metadata": {},
   "outputs": [],
   "source": [
    "def dcg(predicted_order):\n",
    "    i = np.log2(1. + np.arange(1,len(predicted_order)+1))\n",
    "    l = np.array(predicted_order)\n",
    "    return np.sum(l/i)\n",
    "\n",
    "\n",
    "def ndcg(score, top_ten=True):\n",
    "    end = 10 if top_ten else len(score)\n",
    "    sorted_score = np.sort(score)[::-1]\n",
    "    dcg_ = dcg(score[:end])\n",
    "    if dcg_ == 0:\n",
    "        return 0\n",
    "    dcg_max = dcg(sorted_score[:end])\n",
    "    return dcg_/dcg_max"
   ]
  },
  {
   "cell_type": "code",
   "execution_count": 7,
   "metadata": {},
   "outputs": [
    {
     "name": "stdout",
     "output_type": "stream",
     "text": [
      "8.492056442164959\n",
      "0.935908621453514\n"
     ]
    }
   ],
   "source": [
    "predicted_order_ =[3,2,3,0,1,2,3,2]\n",
    "print(dcg(predicted_order_))\n",
    "print((ndcg(predicted_order_)))"
   ]
  }
 ],
 "metadata": {
  "kernelspec": {
   "display_name": "Python 2",
   "language": "python",
   "name": "python2"
  },
  "language_info": {
   "codemirror_mode": {
    "name": "ipython",
    "version": 2
   },
   "file_extension": ".py",
   "mimetype": "text/x-python",
   "name": "python",
   "nbconvert_exporter": "python",
   "pygments_lexer": "ipython2",
   "version": "2.7.15"
  }
 },
 "nbformat": 4,
 "nbformat_minor": 2
}
