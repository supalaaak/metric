{
 "cells": [
  {
   "cell_type": "markdown",
   "metadata": {},
   "source": [
    "# Exploring the model code\n",
    "\n",
    "The model code is contained in the `wals_ml_engine` directory. The code's \n",
    "high-level functionality is implemented by the following files:\n",
    "\n",
    "`mltrain.sh`\n",
    " * Launches various types of ML Engine jobs. This shell\n",
    "      script accepts arguments for the location of the dataset file, the\n",
    "      delimiter used to separate values in the file, and whether the data\n",
    "      file has a header line. It's a best practice to create a script that\n",
    "      automatically configures and executes ML Engine jobs.\n",
    "\n",
    "`task.py`\n",
    " * Parses the arguments for the ML Engine job and executes\n",
    "      training.\n",
    "\n",
    "`model.py`\n",
    " * Loads the dataset.\n",
    " * Creates two sparse matrices from the data, one for  training and one for\n",
    "      testing. Executes WALS on the training sparse matrix of ratings.\n",
    "\n",
    "`wals.py`\n",
    " * Creates the WALS model.\n",
    " * Executes the WALS algorithm.\n",
    " * Calculates the root-mean-square error [RMSE](https://wikipedia.org/wiki/Root-mean-square_deviation) for a set of row/column factors and a ratings matrix.\n",
    "\n",
    "## Let's run some code\n",
    "\n",
    "Now we will run some of the code from `model.py` in this notebook, to help you understand it.\n",
    "\n",
    "**Execute the following cell to import necessary python modules:**"
   ]
  },
  {
   "cell_type": "code",
   "execution_count": 1,
   "metadata": {},
   "outputs": [
    {
     "name": "stderr",
     "output_type": "stream",
     "text": [
      "/usr/local/envs/py2env/lib/python2.7/site-packages/h5py/__init__.py:36: FutureWarning: Conversion of the second argument of issubdtype from `float` to `np.floating` is deprecated. In future, it will be treated as `np.float64 == np.dtype(float).type`.\n",
      "  from ._conv import register_converters as _register_converters\n"
     ]
    }
   ],
   "source": [
    "import datetime\n",
    "import numpy as np\n",
    "import pandas as pd\n",
    "from scipy.sparse import coo_matrix\n",
    "import tensorflow as tf"
   ]
  },
  {
   "cell_type": "code",
   "execution_count": null,
   "metadata": {},
   "outputs": [],
   "source": [
    "%bash\n",
    "#pip install -r ../requirements.txt"
   ]
  },
  {
   "cell_type": "code",
   "execution_count": 2,
   "metadata": {},
   "outputs": [
    {
     "ename": "ImportError",
     "evalue": "No module named sh",
     "output_type": "error",
     "traceback": [
      "\u001b[0;31m\u001b[0m",
      "\u001b[0;31mImportError\u001b[0mTraceback (most recent call last)",
      "\u001b[0;32m<ipython-input-2-ad617807a222>\u001b[0m in \u001b[0;36m<module>\u001b[0;34m()\u001b[0m\n\u001b[1;32m      1\u001b[0m \u001b[0;32mfrom\u001b[0m \u001b[0mtensorflow\u001b[0m\u001b[0;34m.\u001b[0m\u001b[0mcontrib\u001b[0m\u001b[0;34m.\u001b[0m\u001b[0mfactorization\u001b[0m\u001b[0;34m.\u001b[0m\u001b[0mpython\u001b[0m\u001b[0;34m.\u001b[0m\u001b[0mops\u001b[0m \u001b[0;32mimport\u001b[0m \u001b[0mfactorization_ops\u001b[0m\u001b[0;34m\u001b[0m\u001b[0m\n\u001b[0;32m----> 2\u001b[0;31m \u001b[0;32mimport\u001b[0m \u001b[0msh\u001b[0m\u001b[0;34m\u001b[0m\u001b[0m\n\u001b[0m\u001b[1;32m      3\u001b[0m \u001b[0;32mimport\u001b[0m \u001b[0mmath\u001b[0m\u001b[0;34m\u001b[0m\u001b[0m\n",
      "\u001b[0;31mImportError\u001b[0m: No module named sh"
     ]
    }
   ],
   "source": [
    "from tensorflow.contrib.factorization.python.ops import factorization_ops\n",
    "import sh\n",
    "import math"
   ]
  },
  {
   "cell_type": "markdown",
   "metadata": {},
   "source": [
    "## The MovieLens data set\n",
    "\n",
    "**Execute the following cell to download the MovieLens 100k data set:**"
   ]
  },
  {
   "cell_type": "code",
   "execution_count": 2,
   "metadata": {},
   "outputs": [
    {
     "name": "stdout",
     "output_type": "stream",
     "text": [
      "  % Total    % Received % Xferd  Average Speed   Time    Time     Time  Current\n",
      "                                 Dload  Upload   Total   Spent    Left  Speed\n",
      "100 4808k  100 4808k    0     0  1914k      0  0:00:02  0:00:02 --:--:-- 1914k\n",
      "Archive:  ml-100k.zip\n",
      "   creating: ml-100k/\n",
      "  inflating: ml-100k/allbut.pl       \n",
      "  inflating: ml-100k/mku.sh          \n",
      "  inflating: ml-100k/README          \n",
      "  inflating: ml-100k/u.data          \n",
      "  inflating: ml-100k/u.genre         \n",
      "  inflating: ml-100k/u.info          \n",
      "  inflating: ml-100k/u.item          \n",
      "  inflating: ml-100k/u.occupation    \n",
      "  inflating: ml-100k/u.user          \n",
      "  inflating: ml-100k/u1.base         \n",
      "  inflating: ml-100k/u1.test         \n",
      "  inflating: ml-100k/u2.base         \n",
      "  inflating: ml-100k/u2.test         \n",
      "  inflating: ml-100k/u3.base         \n",
      "  inflating: ml-100k/u3.test         \n",
      "  inflating: ml-100k/u4.base         \n",
      "  inflating: ml-100k/u4.test         \n",
      "  inflating: ml-100k/u5.base         \n",
      "  inflating: ml-100k/u5.test         \n",
      "  inflating: ml-100k/ua.base         \n",
      "  inflating: ml-100k/ua.test         \n",
      "  inflating: ml-100k/ub.base         \n",
      "  inflating: ml-100k/ub.test         \n"
     ]
    }
   ],
   "source": [
    "!curl -O 'http://files.grouplens.org/datasets/movielens/ml-100k.zip'\n",
    "!unzip ml-100k.zip\n",
    "!mkdir -p ../data\n",
    "!cp ml-100k/u.data ../data/"
   ]
  },
  {
   "cell_type": "markdown",
   "metadata": {},
   "source": [
    "**Let's take a look at the MovieLens data.** It consists of rows of individual user ratings of movies.  Each row consists of four elements: a unique user id, a unique 'item id' corresponding to a movie, a rating from 1-5, and a timestamp of when the rating was made.  Each row of data maps to a single entry in the ratings matrix:"
   ]
  },
  {
   "attachments": {
    "recommendation-system-tensorflow-movielens-rating-matrix.png": {
     "image/png": "[encoded data removed]"
    }
   },
   "cell_type": "markdown",
   "metadata": {},
   "source": [
    "![recommendation-system-tensorflow-movielens-rating-matrix.png](attachment:recommendation-system-tensorflow-movielens-rating-matrix.png)"
   ]
  },
  {
   "cell_type": "markdown",
   "metadata": {},
   "source": [
    "Let's inspect the contents of the file:"
   ]
  },
  {
   "cell_type": "code",
   "execution_count": 3,
   "metadata": {},
   "outputs": [
    {
     "name": "stdout",
     "output_type": "stream",
     "text": [
      "196\t242\t3\t881250949\r\n",
      "186\t302\t3\t891717742\r\n",
      "22\t377\t1\t878887116\r\n",
      "244\t51\t2\t880606923\r\n",
      "166\t346\t1\t886397596\r\n",
      "298\t474\t4\t884182806\r\n",
      "115\t265\t2\t881171488\r\n",
      "253\t465\t5\t891628467\r\n",
      "305\t451\t3\t886324817\r\n",
      "6\t86\t3\t883603013\r\n"
     ]
    }
   ],
   "source": [
    "!head ../data/u.data"
   ]
  },
  {
   "cell_type": "markdown",
   "metadata": {},
   "source": [
    "This model ignores the timestamp.  We will only make use of the **user id**, **item** (or movie) **id**, and **rating**."
   ]
  },
  {
   "cell_type": "markdown",
   "metadata": {},
   "source": [
    "## How the model preprocesses data\n",
    "\n",
    "The model code performs data preprocessing to create a sparse ratings matrix and prepare it for matrix factorization. \n",
    "\n",
    "**This involves the following steps:**\n",
    "\n",
    " * The model code loads rows of data from a delimited text file, in this case the MovieLens data. \n",
    "\n",
    "**Execute this cell to read the MovieLens data set into a Pandas dataframe:**"
   ]
  },
  {
   "cell_type": "code",
   "execution_count": 4,
   "metadata": {},
   "outputs": [],
   "source": [
    "input_file = '../data/u.data'\n",
    "headers = ['user_id', 'item_id', 'rating', 'timestamp']\n",
    "header_row = None\n",
    "ratings_df = pd.read_csv(input_file,\n",
    "                         sep='\\t',\n",
    "                         names=headers,\n",
    "                         header=header_row,\n",
    "                         dtype={\n",
    "                           'user_id': np.int32,\n",
    "                           'item_id': np.int32,\n",
    "                           'rating': np.float32,\n",
    "                           'timestamp': np.int32,\n",
    "                         })"
   ]
  },
  {
   "cell_type": "code",
   "execution_count": 17,
   "metadata": {},
   "outputs": [
    {
     "data": {
      "text/html": [
       "<div>\n",
       "<style scoped>\n",
       "    .dataframe tbody tr th:only-of-type {\n",
       "        vertical-align: middle;\n",
       "    }\n",
       "\n",
       "    .dataframe tbody tr th {\n",
       "        vertical-align: top;\n",
       "    }\n",
       "\n",
       "    .dataframe thead th {\n",
       "        text-align: right;\n",
       "    }\n",
       "</style>\n",
       "<table border=\"1\" class=\"dataframe\">\n",
       "  <thead>\n",
       "    <tr style=\"text-align: right;\">\n",
       "      <th></th>\n",
       "      <th>user_id</th>\n",
       "      <th>item_id</th>\n",
       "      <th>rating</th>\n",
       "      <th>timestamp</th>\n",
       "    </tr>\n",
       "  </thead>\n",
       "  <tbody>\n",
       "    <tr>\n",
       "      <th>0</th>\n",
       "      <td>196</td>\n",
       "      <td>242</td>\n",
       "      <td>3.0</td>\n",
       "      <td>881250949</td>\n",
       "    </tr>\n",
       "    <tr>\n",
       "      <th>1</th>\n",
       "      <td>186</td>\n",
       "      <td>302</td>\n",
       "      <td>3.0</td>\n",
       "      <td>891717742</td>\n",
       "    </tr>\n",
       "    <tr>\n",
       "      <th>2</th>\n",
       "      <td>22</td>\n",
       "      <td>377</td>\n",
       "      <td>1.0</td>\n",
       "      <td>878887116</td>\n",
       "    </tr>\n",
       "    <tr>\n",
       "      <th>3</th>\n",
       "      <td>244</td>\n",
       "      <td>51</td>\n",
       "      <td>2.0</td>\n",
       "      <td>880606923</td>\n",
       "    </tr>\n",
       "    <tr>\n",
       "      <th>4</th>\n",
       "      <td>166</td>\n",
       "      <td>346</td>\n",
       "      <td>1.0</td>\n",
       "      <td>886397596</td>\n",
       "    </tr>\n",
       "  </tbody>\n",
       "</table>\n",
       "</div>"
      ],
      "text/plain": [
       "   user_id  item_id  rating  timestamp\n",
       "0      196      242     3.0  881250949\n",
       "1      186      302     3.0  891717742\n",
       "2       22      377     1.0  878887116\n",
       "3      244       51     2.0  880606923\n",
       "4      166      346     1.0  886397596"
      ]
     },
     "execution_count": 17,
     "metadata": {},
     "output_type": "execute_result"
    }
   ],
   "source": [
    "ratings_df.head()"
   ]
  },
  {
   "cell_type": "markdown",
   "metadata": {},
   "source": [
    " * The code establishes a 0-indexed set of unique IDs for users and items. This guarantees that a unique ID corresponds to specific row and column indexes of the sparse ratings matrix.\n",
    " \n",
    "**Let's find the number of unique users and movies:**"
   ]
  },
  {
   "cell_type": "code",
   "execution_count": 5,
   "metadata": {},
   "outputs": [],
   "source": [
    "np_users = ratings_df.user_id.as_matrix()\n",
    "np_items = ratings_df.item_id.as_matrix()\n",
    "unique_users = np.unique(np_users)\n",
    "unique_items = np.unique(np_items)\n",
    "\n",
    "n_users = unique_users.shape[0]\n",
    "n_items = unique_items.shape[0]"
   ]
  },
  {
   "cell_type": "code",
   "execution_count": 6,
   "metadata": {},
   "outputs": [
    {
     "data": {
      "text/plain": [
       "943"
      ]
     },
     "execution_count": 6,
     "metadata": {},
     "output_type": "execute_result"
    }
   ],
   "source": [
    "n_users"
   ]
  },
  {
   "cell_type": "code",
   "execution_count": 7,
   "metadata": {},
   "outputs": [
    {
     "data": {
      "text/plain": [
       "1682"
      ]
     },
     "execution_count": 7,
     "metadata": {},
     "output_type": "execute_result"
    }
   ],
   "source": [
    "n_items"
   ]
  },
  {
   "cell_type": "markdown",
   "metadata": {},
   "source": [
    "The MovieLens 100k data uses 1-based IDs where the lowest index of the unique set is 1. But the TensorFlow code assumes a starting index of zero.  The code handles this **by converting the Pandas dataframe to a numpy array and subtracting one from each index:**"
   ]
  },
  {
   "cell_type": "code",
   "execution_count": 8,
   "metadata": {},
   "outputs": [],
   "source": [
    "ratings = ratings_df.as_matrix(['user_id', 'item_id', 'rating'])\n",
    "ratings[:,0] -= 1\n",
    "ratings[:,1] -= 1"
   ]
  },
  {
   "cell_type": "code",
   "execution_count": 9,
   "metadata": {},
   "outputs": [
    {
     "data": {
      "text/plain": [
       "array([[1.950e+02, 2.410e+02, 3.000e+00],\n",
       "       [1.850e+02, 3.010e+02, 3.000e+00],\n",
       "       [2.100e+01, 3.760e+02, 1.000e+00],\n",
       "       ...,\n",
       "       [2.750e+02, 1.089e+03, 1.000e+00],\n",
       "       [1.200e+01, 2.240e+02, 2.000e+00],\n",
       "       [1.100e+01, 2.020e+02, 3.000e+00]])"
      ]
     },
     "execution_count": 9,
     "metadata": {},
     "output_type": "execute_result"
    }
   ],
   "source": [
    "ratings"
   ]
  },
  {
   "cell_type": "markdown",
   "metadata": {},
   "source": [
    " * The model code randomly selects a test set of ratings. By default, 10% of the ratings are chosen for the test set. These ratings are removed from the training set and will be used to evaluate the predictive accuracy of the user and item factors."
   ]
  },
  {
   "cell_type": "code",
   "execution_count": 10,
   "metadata": {},
   "outputs": [],
   "source": [
    "TEST_SET_RATIO = 10\n",
    "\n",
    "test_set_size = len(ratings) / TEST_SET_RATIO\n",
    "test_set_idx = np.random.choice(xrange(len(ratings)),\n",
    "                                size=test_set_size, replace=False)\n",
    "test_set_idx = sorted(test_set_idx)\n",
    "\n",
    "ts_ratings = ratings[test_set_idx]\n",
    "tr_ratings = np.delete(ratings, test_set_idx, axis=0)"
   ]
  },
  {
   "cell_type": "code",
   "execution_count": null,
   "metadata": {},
   "outputs": [],
   "source": [
    "test_set_idx"
   ]
  },
  {
   "cell_type": "code",
   "execution_count": 12,
   "metadata": {},
   "outputs": [
    {
     "data": {
      "text/plain": [
       "array([[223.,  28.,   3.],\n",
       "       [224., 192.,   4.],\n",
       "       [245., 200.,   5.],\n",
       "       ...,\n",
       "       [393., 379.,   4.],\n",
       "       [933., 215.,   1.],\n",
       "       [448., 119.,   1.]])"
      ]
     },
     "execution_count": 12,
     "metadata": {},
     "output_type": "execute_result"
    }
   ],
   "source": [
    "ts_ratings"
   ]
  },
  {
   "cell_type": "code",
   "execution_count": 13,
   "metadata": {},
   "outputs": [
    {
     "data": {
      "text/plain": [
       "array([[1.950e+02, 2.410e+02, 3.000e+00],\n",
       "       [1.850e+02, 3.010e+02, 3.000e+00],\n",
       "       [2.100e+01, 3.760e+02, 1.000e+00],\n",
       "       ...,\n",
       "       [2.750e+02, 1.089e+03, 1.000e+00],\n",
       "       [1.200e+01, 2.240e+02, 2.000e+00],\n",
       "       [1.100e+01, 2.020e+02, 3.000e+00]])"
      ]
     },
     "execution_count": 13,
     "metadata": {},
     "output_type": "execute_result"
    }
   ],
   "source": [
    "tr_ratings"
   ]
  },
  {
   "cell_type": "markdown",
   "metadata": {},
   "source": [
    " * Finally, the code creates a `scipy` sparse matrix in coordinate form (`coo_matrix`) that includes the user and item indexes and ratings. The `coo_matrix` object acts as a wrapper for a sparse matrix. It also performs validation of the user and ratings indexes, checking for errors in preprocessing:"
   ]
  },
  {
   "cell_type": "code",
   "execution_count": 14,
   "metadata": {},
   "outputs": [],
   "source": [
    "u_tr, i_tr, r_tr = zip(*tr_ratings)\n",
    "tr_sparse = coo_matrix((r_tr, (u_tr, i_tr)), shape=(n_users, n_items))\n",
    "\n",
    "u_ts, i_ts, r_ts = zip(*ts_ratings)\n",
    "test_sparse = coo_matrix((r_ts, (u_ts, i_ts)), shape=(n_users, n_items))"
   ]
  },
  {
   "cell_type": "code",
   "execution_count": 15,
   "metadata": {},
   "outputs": [
    {
     "data": {
      "text/plain": [
       "<943x1682 sparse matrix of type '<type 'numpy.float64'>'\n",
       "\twith 90000 stored elements in COOrdinate format>"
      ]
     },
     "execution_count": 15,
     "metadata": {},
     "output_type": "execute_result"
    }
   ],
   "source": [
    "tr_sparse"
   ]
  },
  {
   "cell_type": "code",
   "execution_count": 16,
   "metadata": {},
   "outputs": [
    {
     "data": {
      "text/plain": [
       "<943x1682 sparse matrix of type '<type 'numpy.float64'>'\n",
       "\twith 10000 stored elements in COOrdinate format>"
      ]
     },
     "execution_count": 16,
     "metadata": {},
     "output_type": "execute_result"
    }
   ],
   "source": [
    "test_sparse"
   ]
  },
  {
   "cell_type": "markdown",
   "metadata": {},
   "source": [
    "## How the WALS Algorithm is implemented in TensorFlow\n",
    "\n",
    "You can read the [solution online](https://wikipedia.org/wiki/Root-mean-square_deviation) to understand how the WALS algorithm is implemented in TensorFlow."
   ]
  },
  {
   "cell_type": "code",
   "execution_count": 18,
   "metadata": {},
   "outputs": [],
   "source": [
    "# Import helpful libraries and setup our project, bucket, and region\n",
    "import os\n",
    "\n",
    "PROJECT = 'avid-grid-217112' # REPLACE WITH YOUR PROJECT ID\n",
    "BUCKET = 'avid-grid-217112' # REPLACE WITH YOUR BUCKET NAME\n",
    "REGION = 'asia-southeast1' # REPLACE WITH YOUR BUCKET REGION e.g. us-central1\n",
    "\n",
    "# do not change these\n",
    "os.environ['PROJECT'] = PROJECT\n",
    "os.environ['BUCKET'] = BUCKET\n",
    "os.environ['REGION'] = REGION"
   ]
  },
  {
   "cell_type": "code",
   "execution_count": null,
   "metadata": {},
   "outputs": [],
   "source": [
    "%bash\n",
    "gcloud  config  set project $PROJECT\n",
    "gcloud config set compute/region $REGION"
   ]
  },
  {
   "cell_type": "markdown",
   "metadata": {},
   "source": [
    "Copy the MovieLens datasets to the bucket using the gsutil tool:"
   ]
  },
  {
   "cell_type": "code",
   "execution_count": null,
   "metadata": {},
   "outputs": [],
   "source": [
    "!gsutil cp -r ../data/u.data gs://{BUCKET}/data/u.data"
   ]
  },
  {
   "cell_type": "markdown",
   "metadata": {},
   "source": [
    "How the WALS Algorithm is implemented in TensorFlow\n",
    "After the data is preprocessed, the code passes the sparse training matrix into the TensorFlow WALS model to be factorized into row factor X and column factor Y.\n",
    "\n",
    "The TensorFlow code that executes the model is actually simple, because it relies on the WALSModel class included in the contrib.factorization_ops module of TensorFlow."
   ]
  },
  {
   "cell_type": "markdown",
   "metadata": {},
   "source": [
    "A SparseTensor object is initialized with user IDs and items IDs as indices, and with the ratings as values. From wals.py:"
   ]
  },
  {
   "cell_type": "code",
   "execution_count": 52,
   "metadata": {},
   "outputs": [],
   "source": [
    "LOG_RATINGS = 0\n",
    "LINEAR_RATINGS = 1\n",
    "LINEAR_OBS_W = 100.0\n",
    "\n",
    "def wals_model(data, dim, reg, unobs, weights=False,\n",
    "               wt_type=LINEAR_RATINGS, feature_wt_exp=None,\n",
    "               obs_wt=LINEAR_OBS_W):\n",
    "  \"\"\"Create the WALSModel and input, row and col factor tensors.\n",
    "\n",
    "  Args:\n",
    "    data:           scipy coo_matrix of item ratings\n",
    "    dim:            number of latent factors\n",
    "    reg:            regularization constant\n",
    "    unobs:          unobserved item weight\n",
    "    weights:        True: set obs weights, False: obs weights = unobs weights\n",
    "    wt_type:        feature weight type: linear (0) or log (1)\n",
    "    feature_wt_exp: feature weight exponent constant\n",
    "    obs_wt:         feature weight linear factor constant\n",
    "\n",
    "  Returns:\n",
    "    input_tensor:   tensor holding the input ratings matrix\n",
    "    row_factor:     tensor for row_factor\n",
    "    col_factor:     tensor for col_factor\n",
    "    model:          WALSModel instance\n",
    "  \"\"\"\n",
    "  row_wts = None\n",
    "  col_wts = None\n",
    "\n",
    "  num_rows = data.shape[0]\n",
    "  num_cols = data.shape[1]\n",
    "\n",
    "  if weights:\n",
    "    assert feature_wt_exp is not None\n",
    "    row_wts = np.ones(num_rows)\n",
    "    col_wts = make_wts(data, wt_type, obs_wt, feature_wt_exp, 0)\n",
    "\n",
    "  row_factor = None\n",
    "  col_factor = None\n",
    "\n",
    "  with tf.Graph().as_default():\n",
    "\n",
    "    input_tensor = tf.SparseTensor(indices=zip(data.row, data.col),\n",
    "                                   values=(data.data).astype(np.float32),\n",
    "                                   dense_shape=data.shape)\n",
    "\n",
    "    model = factorization_ops.WALSModel(num_rows, num_cols, dim,\n",
    "                                        unobserved_weight=unobs,\n",
    "                                        regularization=reg,\n",
    "                                        row_weights=row_wts,\n",
    "                                        col_weights=col_wts)\n",
    "\n",
    "    # retrieve the row and column factors\n",
    "    row_factor = model.row_factors[0]\n",
    "    col_factor = model.col_factors[0]\n",
    "\n",
    "  return input_tensor, row_factor, col_factor, model"
   ]
  },
  {
   "cell_type": "code",
   "execution_count": 28,
   "metadata": {},
   "outputs": [],
   "source": [
    "def make_wts(data, wt_type, obs_wt, feature_wt_exp, axis):\n",
    "  \"\"\"Generate observed item weights.\n",
    "\n",
    "  Args:\n",
    "    data:             coo_matrix of ratings data\n",
    "    wt_type:          weight type, LOG_RATINGS or LINEAR_RATINGS\n",
    "    obs_wt:           linear weight factor\n",
    "    feature_wt_exp:   logarithmic weight factor\n",
    "    axis:             axis to make weights for, 1=rows/users, 0=cols/items\n",
    "\n",
    "  Returns:\n",
    "    vector of weights for cols (items) or rows (users)\n",
    "  \"\"\"\n",
    "  # recipricol of sum of number of items across rows (if axis is 0)\n",
    "  frac = np.array(1.0/(data > 0.0).sum(axis))\n",
    "\n",
    "  # filter any invalid entries\n",
    "  frac[np.ma.masked_invalid(frac).mask] = 0.0\n",
    "\n",
    "  # normalize weights according to assumed distribution of ratings\n",
    "  if wt_type == LOG_RATINGS:\n",
    "    wts = np.array(np.power(frac, feature_wt_exp)).flatten()\n",
    "  else:\n",
    "    wts = np.array(obs_wt * frac).flatten()\n",
    "\n",
    "  # check again for any numerically unstable entries\n",
    "  assert np.isfinite(wts).sum() == wts.shape[0]\n",
    "  return wts"
   ]
  },
  {
   "cell_type": "code",
   "execution_count": 25,
   "metadata": {},
   "outputs": [],
   "source": [
    "DEFAULT_PARAMS = {\n",
    "    'weights': True,\n",
    "    'latent_factors': 5,\n",
    "    'num_iters': 20,\n",
    "    'regularization': 0.07,\n",
    "    'unobs_weight': 0.01,\n",
    "    'wt_type': 0,\n",
    "    'feature_wt_factor': 130.0,\n",
    "    'feature_wt_exp': 0.08,\n",
    "    'delimiter': '\\t',\n",
    "    \n",
    "}\n",
    "\n",
    "dim = DEFAULT_PARAMS['latent_factors']\n",
    "num_iters = DEFAULT_PARAMS['num_iters']\n",
    "reg = DEFAULT_PARAMS['regularization']\n",
    "unobs = DEFAULT_PARAMS['unobs_weight']\n",
    "wt_type = DEFAULT_PARAMS['wt_type']\n",
    "feature_wt_exp =DEFAULT_PARAMS['feature_wt_exp']\n",
    "obs_wt = DEFAULT_PARAMS['feature_wt_factor']"
   ]
  },
  {
   "cell_type": "code",
   "execution_count": 29,
   "metadata": {},
   "outputs": [
    {
     "name": "stderr",
     "output_type": "stream",
     "text": [
      "/usr/local/envs/py2env/lib/python2.7/site-packages/ipykernel/__main__.py:15: RuntimeWarning: divide by zero encountered in divide\n"
     ]
    }
   ],
   "source": [
    " # generate model\n",
    "input_tensor, row_factor, col_factor, model = wals_model(tr_sparse,\n",
    "                                                                dim,\n",
    "                                                                reg,\n",
    "                                                                unobs,\n",
    "                                                                DEFAULT_PARAMS['weights'],\n",
    "                                                                wt_type,\n",
    "                                                                feature_wt_exp,\n",
    "                                                                obs_wt)\n"
   ]
  },
  {
   "cell_type": "code",
   "execution_count": 30,
   "metadata": {},
   "outputs": [],
   "source": [
    "def simple_train(model, input_tensor, num_iterations):\n",
    "  \"\"\"Helper function to train model on input for num_iterations.\n",
    "\n",
    "  Args:\n",
    "    model:            WALSModel instance\n",
    "    input_tensor:     SparseTensor for input ratings matrix\n",
    "    num_iterations:   number of row/column updates to run\n",
    "\n",
    "  Returns:\n",
    "    tensorflow session, for evaluating results\n",
    "  \"\"\"\n",
    "  sess = tf.Session(graph=input_tensor.graph)\n",
    "\n",
    "  with input_tensor.graph.as_default():\n",
    "    row_update_op = model.update_row_factors(sp_input=input_tensor)[1]\n",
    "    col_update_op = model.update_col_factors(sp_input=input_tensor)[1]\n",
    "\n",
    "    sess.run(model.initialize_op)\n",
    "    sess.run(model.worker_init)\n",
    "    for _ in xrange(num_iterations):\n",
    "      sess.run(model.row_update_prep_gramian_op)\n",
    "      sess.run(model.initialize_row_update_op)\n",
    "      sess.run(row_update_op)\n",
    "      sess.run(model.col_update_prep_gramian_op)\n",
    "      sess.run(model.initialize_col_update_op)\n",
    "      sess.run(col_update_op)\n",
    "\n",
    "  return sess"
   ]
  },
  {
   "cell_type": "code",
   "execution_count": 54,
   "metadata": {},
   "outputs": [],
   "source": [
    "def save_model(args, user_map, item_map, row_factor, col_factor):\n",
    "  \"\"\"Save the user map, item map, row factor and column factor matrices in numpy format.\n",
    "\n",
    "  These matrices together constitute the \"recommendation model.\"\n",
    "\n",
    "  Args:\n",
    "    args:         input args to training job\n",
    "    user_map:     user map numpy array\n",
    "    item_map:     item map numpy array\n",
    "    row_factor:   row_factor numpy array\n",
    "    col_factor:   col_factor numpy array\n",
    "  \"\"\"\n",
    "  model_dir = os.path.join(args['output_dir'], 'model')\n",
    "\n",
    "  # if our output directory is a GCS bucket, write model files to /tmp,\n",
    "  # then copy to GCS\n",
    "  gs_model_dir = None\n",
    "  \n",
    "  model_dir =  model_dir[:-1] if model_dir.endswith('/') else model_dir\n",
    "  job_name = os.path.basename(model_dir)\n",
    "  \n",
    "  if model_dir.startswith('gs://'):\n",
    "    gs_model_dir = model_dir\n",
    "    model_dir = '/tmp/{0}'.format(job_name)\n",
    "\n",
    "  #os.makedirs(model_dir)\n",
    "  np.save(os.path.join(model_dir, 'user'), user_map)\n",
    "  np.save(os.path.join(model_dir, 'item'), item_map)\n",
    "  np.save(os.path.join(model_dir, 'row'), row_factor)\n",
    "  np.save(os.path.join(model_dir, 'col'), col_factor)\n",
    "\n",
    "  if gs_model_dir:\n",
    "    sh.gsutil('cp', '-r', os.path.join(model_dir, '*'), gs_model_dir)\n"
   ]
  },
  {
   "cell_type": "code",
   "execution_count": 56,
   "metadata": {},
   "outputs": [],
   "source": [
    "def get_rmse(output_row, output_col, actual):\n",
    "  \"\"\"Compute rmse between predicted and actual ratings.\n",
    "\n",
    "  Args:\n",
    "    output_row: evaluated numpy array of row_factor\n",
    "    output_col: evaluated numpy array of col_factor\n",
    "    actual: coo_matrix of actual (test) values\n",
    "\n",
    "  Returns:\n",
    "    rmse\n",
    "  \"\"\"\n",
    "  mse = 0\n",
    "  for i in xrange(actual.data.shape[0]):\n",
    "    row_pred = output_row[actual.row[i]]\n",
    "    col_pred = output_col[actual.col[i]]\n",
    "    err = actual.data[i] - np.dot(row_pred, col_pred)\n",
    "    mse += err * err\n",
    "  mse /= actual.data.shape[0]\n",
    "  rmse = math.sqrt(mse)\n",
    "  return rmse"
   ]
  },
  {
   "cell_type": "code",
   "execution_count": 32,
   "metadata": {},
   "outputs": [],
   "source": [
    "  # factorize matrix\n",
    "session = simple_train(model, input_tensor, num_iters)"
   ]
  },
  {
   "cell_type": "code",
   "execution_count": 33,
   "metadata": {},
   "outputs": [],
   "source": [
    "# evaluate output factor matrices\n",
    "output_row = row_factor.eval(session=session)\n",
    "output_col = col_factor.eval(session=session)"
   ]
  },
  {
   "cell_type": "code",
   "execution_count": 35,
   "metadata": {},
   "outputs": [
    {
     "data": {
      "text/plain": [
       "(943, 5)"
      ]
     },
     "execution_count": 35,
     "metadata": {},
     "output_type": "execute_result"
    }
   ],
   "source": [
    "output_row.shape"
   ]
  },
  {
   "cell_type": "code",
   "execution_count": 40,
   "metadata": {},
   "outputs": [],
   "source": [
    "args = {'output_dir': ''}\n",
    "args['output_dir']=\"gs://{}/model\".format(BUCKET)"
   ]
  },
  {
   "cell_type": "code",
   "execution_count": 55,
   "metadata": {},
   "outputs": [],
   "source": [
    "# save trained model to job directory\n",
    "user_map=ratings[:,0]\n",
    "item_map=ratings[:,1]\n",
    "save_model(args, user_map, item_map, output_row, output_col)"
   ]
  },
  {
   "cell_type": "code",
   "execution_count": 59,
   "metadata": {},
   "outputs": [],
   "source": [
    "  # log results\n",
    "train_rmse =get_rmse(output_row, output_col, tr_sparse)\n",
    "test_rmse = get_rmse(output_row, output_col, test_sparse)"
   ]
  },
  {
   "cell_type": "code",
   "execution_count": 61,
   "metadata": {},
   "outputs": [
    {
     "name": "stdout",
     "output_type": "stream",
     "text": [
      "('train=', 0.9319283584959055)\n",
      "('test=', 1.0636285361429554)\n"
     ]
    }
   ],
   "source": [
    "print('train=',train_rmse)\n",
    "print('test=',test_rmse)"
   ]
  },
  {
   "cell_type": "code",
   "execution_count": null,
   "metadata": {},
   "outputs": [],
   "source": []
  }
 ],
 "metadata": {
  "kernelspec": {
   "display_name": "Python 2",
   "language": "python",
   "name": "python2"
  },
  "language_info": {
   "codemirror_mode": {
    "name": "ipython",
    "version": 2
   },
   "file_extension": ".py",
   "mimetype": "text/x-python",
   "name": "python",
   "nbconvert_exporter": "python",
   "pygments_lexer": "ipython2",
   "version": "2.7.15"
  }
 },
 "nbformat": 4,
 "nbformat_minor": 2
}
